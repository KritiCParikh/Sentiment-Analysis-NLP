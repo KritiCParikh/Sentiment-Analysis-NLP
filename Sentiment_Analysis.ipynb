{
 "cells": [
  {
   "cell_type": "markdown",
   "id": "8de54bd1",
   "metadata": {},
   "source": [
    "Sentiment analysis is a technique used to determine whether a text (like a review or a tweet) expresses a positive, negative, or neutral sentiment. It helps in understanding people’s opinions and feelings from written language.\n",
    "\n",
    "The objective of sentiment analysis is to automatically identify and extract subjective information from text. It helps businesses and organizations understand public opinion, monitor brand reputation, improve customer service, and gain insights into market trends."
   ]
  },
  {
   "cell_type": "markdown",
   "id": "f7ec1f28",
   "metadata": {},
   "source": [
    "Three most popular type of Sentiment Analysis:\n",
    "\n",
    "- Fine-grained Sentiment Analysis: This involves classifying sentiments into categories like very positive, positive, neutral, negative, and very negative.\n",
    "- Aspect-based Sentiment Analysis: This focuses on identifying sentiments about specific aspects or features of a product or service, like the taste of food or the speed of service in a restaurant.\n",
    "- Emotion Detection: This type categorizes text into different emotions such as happiness, anger, sadness, etc."
   ]
  },
  {
   "cell_type": "markdown",
   "id": "1f649e8c",
   "metadata": {},
   "source": [
    "Sentiment analysis in Python involves using libraries and tools to analyze text data and determine its sentiment. Commonly used libraries include:\n",
    "\n",
    "1. NLTK (Natural Language Toolkit): For text processing and classification.\n",
    "2. TextBlob: For simple sentiment analysis and text processing.\n",
    "3. VADER (Valence Aware Dictionary and sEntiment Reasoner): For analyzing social media texts.\n",
    "4. Transformers (Hugging Face): For using pre-trained models to perform sentiment analysis."
   ]
  },
  {
   "cell_type": "code",
   "execution_count": 1,
   "id": "french-statement",
   "metadata": {},
   "outputs": [],
   "source": [
    "#Pandas - data analysis and data manipulation\n",
    "#Matplotlib - data visualization\n",
    "#Seaborn - library based on matplotlib, providing a high-level interface for data visualization\n",
    "#WordCloud -  visualize text data\n",
    "#re - provides functions to pre-process the strings as per the given regular expression\n",
    "#pip install wordcloud\n",
    "\n",
    "import pandas as pd\n",
    "import seaborn as sns\n",
    "import matplotlib.pyplot as plt\n",
    "from wordcloud import WordCloud\n",
    "import re"
   ]
  },
  {
   "cell_type": "code",
   "execution_count": 2,
   "id": "conscious-seating",
   "metadata": {},
   "outputs": [],
   "source": [
    "from matplotlib import style,rcParams\n",
    "style.use('seaborn-white')\n",
    "rcParams['figure.figsize'] = 10,5\n",
    "import warnings\n",
    "warnings.filterwarnings('ignore')"
   ]
  },
  {
   "cell_type": "code",
   "execution_count": 3,
   "id": "supported-validation",
   "metadata": {},
   "outputs": [],
   "source": [
    "##Natural Language Processing\n",
    "#nltk – (Natural Language Toolkit) a collection of libraries for natural language processing\n",
    "#stopwords – a collection of words that don’t provide any meaning to a sentence\n",
    "#WordNetLemmatizer – used to convert different forms of words into a single item but still keeping the context intact\n",
    "import nltk\n",
    "from nltk.corpus import stopwords\n",
    "from nltk.stem import WordNetLemmatizer"
   ]
  },
  {
   "cell_type": "code",
   "execution_count": 4,
   "id": "caring-mobile",
   "metadata": {},
   "outputs": [],
   "source": [
    "##Scikit-Learn (Machine Learning Library for Python)\n",
    "#CountVectorizer – transform text to vectors\n",
    "#GridSearchCV – for hyperparameter tuning\n",
    "#RandomForestClassifier – machine learning algorithm for classification\n",
    "from sklearn.feature_extraction.text import CountVectorizer\n",
    "from sklearn.model_selection import GridSearchCV\n",
    "from sklearn.ensemble import RandomForestClassifier"
   ]
  },
  {
   "cell_type": "code",
   "execution_count": 5,
   "id": "lyric-saint",
   "metadata": {},
   "outputs": [],
   "source": [
    "#Evaluation Metrics\n",
    "#Accuracy Score: no. of correctly classified instances/total no. of instances\n",
    "#Precision Score: the ratio of correctly predicted instances over total positive instances\n",
    "#Recall Score: the ratio of correctly predicted instances over total instances in that class\n",
    "#Roc Curve: a plot of true positive rate against false positive rate\n",
    "#Classification Report: report of precision, recall and f1 score\n",
    "#Confusion Matrix: a table used to describe the classification models\n",
    "\n",
    "#!pip install scikit-plot\n",
    "#!pip install --upgrade scikit-plot\n",
    "#!pip install scikit-learn==1.2.2\n",
    "from sklearn.metrics import accuracy_score,precision_score,recall_score,confusion_matrix,roc_curve,classification_report"
   ]
  },
  {
   "cell_type": "code",
   "execution_count": null,
   "id": "d12661ba",
   "metadata": {},
   "outputs": [],
   "source": [
    "#!pip install scipy==1.7.3"
   ]
  },
  {
   "cell_type": "code",
   "execution_count": null,
   "id": "bef291c5",
   "metadata": {},
   "outputs": [],
   "source": [
    "from scikitplot.metrics import plot_confusion_matrix"
   ]
  },
  {
   "cell_type": "code",
   "execution_count": null,
   "id": "40500963",
   "metadata": {},
   "outputs": [],
   "source": [
    "# %pip install scikit-plot\n",
    "# !pip install --upgrade scikit-learn"
   ]
  },
  {
   "cell_type": "markdown",
   "id": "eaee9f07",
   "metadata": {},
   "source": [
    "Dataset consists of a sentence and its respective sentiment as a target variable. It contains 3 separate files named train.txt, test.txt and val.txt.\n",
    "\n",
    "Source = https://www.kaggle.com/datasets/praveengovi/emotions-dataset-for-nlp"
   ]
  },
  {
   "cell_type": "code",
   "execution_count": 6,
   "id": "economic-softball",
   "metadata": {},
   "outputs": [],
   "source": [
    "df_train = pd.read_csv(\"train.txt\",delimiter=';',names=['text','label'])\n",
    "df_val = pd.read_csv(\"val.txt\",delimiter=';',names=['text','label'])"
   ]
  },
  {
   "cell_type": "code",
   "execution_count": null,
   "id": "53306ec2",
   "metadata": {},
   "outputs": [],
   "source": [
    "#df_train.head()\n",
    "#df_val.head()\n",
    "#df_train.shape\n",
    "#df_train.describe()"
   ]
  },
  {
   "cell_type": "markdown",
   "id": "wireless-climate",
   "metadata": {},
   "source": [
    "#### Concatenate these two data frames as we will be using cross validation and we have a seperate test dataset."
   ]
  },
  {
   "cell_type": "code",
   "execution_count": 7,
   "id": "attached-offense",
   "metadata": {},
   "outputs": [],
   "source": [
    "df = pd.concat([df_train,df_val])"
   ]
  },
  {
   "cell_type": "code",
   "execution_count": 8,
   "id": "searching-evolution",
   "metadata": {},
   "outputs": [
    {
     "name": "stdout",
     "output_type": "stream",
     "text": [
      "Shape of the DataFrame: (18000, 2)\n"
     ]
    }
   ],
   "source": [
    "print(\"Shape of the DataFrame:\",df.shape)"
   ]
  },
  {
   "cell_type": "code",
   "execution_count": 9,
   "id": "legendary-avatar",
   "metadata": {},
   "outputs": [],
   "source": [
    "df.reset_index(inplace=True,drop=True)"
   ]
  },
  {
   "cell_type": "code",
   "execution_count": 10,
   "id": "disciplinary-organic",
   "metadata": {},
   "outputs": [
    {
     "data": {
      "text/html": [
       "<div>\n",
       "<style scoped>\n",
       "    .dataframe tbody tr th:only-of-type {\n",
       "        vertical-align: middle;\n",
       "    }\n",
       "\n",
       "    .dataframe tbody tr th {\n",
       "        vertical-align: top;\n",
       "    }\n",
       "\n",
       "    .dataframe thead th {\n",
       "        text-align: right;\n",
       "    }\n",
       "</style>\n",
       "<table border=\"1\" class=\"dataframe\">\n",
       "  <thead>\n",
       "    <tr style=\"text-align: right;\">\n",
       "      <th></th>\n",
       "      <th>text</th>\n",
       "      <th>label</th>\n",
       "    </tr>\n",
       "  </thead>\n",
       "  <tbody>\n",
       "    <tr>\n",
       "      <th>0</th>\n",
       "      <td>i didnt feel humiliated</td>\n",
       "      <td>sadness</td>\n",
       "    </tr>\n",
       "    <tr>\n",
       "      <th>1</th>\n",
       "      <td>i can go from feeling so hopeless to so damned...</td>\n",
       "      <td>sadness</td>\n",
       "    </tr>\n",
       "    <tr>\n",
       "      <th>2</th>\n",
       "      <td>im grabbing a minute to post i feel greedy wrong</td>\n",
       "      <td>anger</td>\n",
       "    </tr>\n",
       "    <tr>\n",
       "      <th>3</th>\n",
       "      <td>i am ever feeling nostalgic about the fireplac...</td>\n",
       "      <td>love</td>\n",
       "    </tr>\n",
       "    <tr>\n",
       "      <th>4</th>\n",
       "      <td>i am feeling grouchy</td>\n",
       "      <td>anger</td>\n",
       "    </tr>\n",
       "  </tbody>\n",
       "</table>\n",
       "</div>"
      ],
      "text/plain": [
       "                                                text    label\n",
       "0                            i didnt feel humiliated  sadness\n",
       "1  i can go from feeling so hopeless to so damned...  sadness\n",
       "2   im grabbing a minute to post i feel greedy wrong    anger\n",
       "3  i am ever feeling nostalgic about the fireplac...     love\n",
       "4                               i am feeling grouchy    anger"
      ]
     },
     "execution_count": 10,
     "metadata": {},
     "output_type": "execute_result"
    }
   ],
   "source": [
    "df.head()"
   ]
  },
  {
   "cell_type": "code",
   "execution_count": 11,
   "id": "aggregate-constraint",
   "metadata": {
    "scrolled": true
   },
   "outputs": [
    {
     "data": {
      "text/plain": [
       "<AxesSubplot:xlabel='label', ylabel='count'>"
      ]
     },
     "execution_count": 11,
     "metadata": {},
     "output_type": "execute_result"
    },
    {
     "data": {
      "image/png": "[encoded data removed]",
      "text/plain": [
       "<Figure size 720x360 with 1 Axes>"
      ]
     },
     "metadata": {},
     "output_type": "display_data"
    }
   ],
   "source": [
    "sns.countplot(df.label)"
   ]
  },
  {
   "cell_type": "markdown",
   "id": "53cc9868",
   "metadata": {},
   "source": [
    "We could create a multi-class classifier for Sentiment Analysis using NLP, but to make it simple, we'll just merge the labels into 2 classes: positive and negative\n",
    "1. Positive Sentiment - \"joy\",\"love\",\"surprise\"\n",
    "2. Negative Sentiment - \"anger\",\"sadness\",\"fear\""
   ]
  },
  {
   "cell_type": "code",
   "execution_count": 12,
   "id": "weird-cycling",
   "metadata": {},
   "outputs": [],
   "source": [
    "#Custom encoder to convert categorical target labels to numerical form, i.e. (0 and 1)\n",
    "def custom_encoder(df):\n",
    "    df.replace(to_replace =\"surprise\", value =1, inplace=True)\n",
    "    df.replace(to_replace =\"love\", value =1, inplace=True)\n",
    "    df.replace(to_replace =\"joy\", value =1, inplace=True)\n",
    "    df.replace(to_replace =\"fear\", value =0, inplace=True)\n",
    "    df.replace(to_replace =\"anger\", value =0, inplace=True)\n",
    "    df.replace(to_replace =\"sadness\", value =0, inplace=True)"
   ]
  },
  {
   "cell_type": "code",
   "execution_count": 13,
   "id": "micro-moore",
   "metadata": {},
   "outputs": [],
   "source": [
    "custom_encoder(df['label'])"
   ]
  },
  {
   "cell_type": "code",
   "execution_count": 14,
   "id": "skilled-present",
   "metadata": {
    "scrolled": true
   },
   "outputs": [
    {
     "data": {
      "text/plain": [
       "<AxesSubplot:xlabel='label', ylabel='count'>"
      ]
     },
     "execution_count": 14,
     "metadata": {},
     "output_type": "execute_result"
    },
    {
     "data": {
      "image/png": "[encoded data removed]",
      "text/plain": [
       "<Figure size 720x360 with 1 Axes>"
      ]
     },
     "metadata": {},
     "output_type": "display_data"
    }
   ],
   "source": [
    "sns.countplot(df.label)"
   ]
  },
  {
   "cell_type": "code",
   "execution_count": 15,
   "id": "rocky-resort",
   "metadata": {},
   "outputs": [
    {
     "data": {
      "text/html": [
       "<div>\n",
       "<style scoped>\n",
       "    .dataframe tbody tr th:only-of-type {\n",
       "        vertical-align: middle;\n",
       "    }\n",
       "\n",
       "    .dataframe tbody tr th {\n",
       "        vertical-align: top;\n",
       "    }\n",
       "\n",
       "    .dataframe thead th {\n",
       "        text-align: right;\n",
       "    }\n",
       "</style>\n",
       "<table border=\"1\" class=\"dataframe\">\n",
       "  <thead>\n",
       "    <tr style=\"text-align: right;\">\n",
       "      <th></th>\n",
       "      <th>text</th>\n",
       "      <th>label</th>\n",
       "    </tr>\n",
       "  </thead>\n",
       "  <tbody>\n",
       "    <tr>\n",
       "      <th>0</th>\n",
       "      <td>i didnt feel humiliated</td>\n",
       "      <td>0</td>\n",
       "    </tr>\n",
       "    <tr>\n",
       "      <th>1</th>\n",
       "      <td>i can go from feeling so hopeless to so damned...</td>\n",
       "      <td>0</td>\n",
       "    </tr>\n",
       "    <tr>\n",
       "      <th>2</th>\n",
       "      <td>im grabbing a minute to post i feel greedy wrong</td>\n",
       "      <td>0</td>\n",
       "    </tr>\n",
       "    <tr>\n",
       "      <th>3</th>\n",
       "      <td>i am ever feeling nostalgic about the fireplac...</td>\n",
       "      <td>1</td>\n",
       "    </tr>\n",
       "    <tr>\n",
       "      <th>4</th>\n",
       "      <td>i am feeling grouchy</td>\n",
       "      <td>0</td>\n",
       "    </tr>\n",
       "  </tbody>\n",
       "</table>\n",
       "</div>"
      ],
      "text/plain": [
       "                                                text  label\n",
       "0                            i didnt feel humiliated      0\n",
       "1  i can go from feeling so hopeless to so damned...      0\n",
       "2   im grabbing a minute to post i feel greedy wrong      0\n",
       "3  i am ever feeling nostalgic about the fireplac...      1\n",
       "4                               i am feeling grouchy      0"
      ]
     },
     "execution_count": 15,
     "metadata": {},
     "output_type": "execute_result"
    }
   ],
   "source": [
    "df.head()"
   ]
  },
  {
   "cell_type": "markdown",
   "id": "46e7bfcc",
   "metadata": {},
   "source": [
    "# Data preprocessing\n",
    "* Get rid of any other characters apart from alphabets\n",
    "* Convert the string to lowercase, as 2 different vectors would be created for the same word hence to avoid the situation.\n",
    "* Check for stopwords (eg: “the”, “an”, “to”)\n",
    "* Perform lemmatization on each word, (Changing the different forms of a word into a single item called a lemma; base form of a word; converting all occurrences of the same lexeme to their respective lemma)"
   ]
  },
  {
   "cell_type": "code",
   "execution_count": 16,
   "id": "improving-sender",
   "metadata": {},
   "outputs": [],
   "source": [
    "#object of WordNetLemmatizer\n",
    "lm = WordNetLemmatizer()"
   ]
  },
  {
   "cell_type": "code",
   "execution_count": 17,
   "id": "valid-forum",
   "metadata": {},
   "outputs": [],
   "source": [
    "def text_transformation(df_col):\n",
    "    corpus = []\n",
    "    for item in df_col:\n",
    "        new_item = re.sub('[^a-zA-Z]',' ',str(item))\n",
    "        new_item = new_item.lower()\n",
    "        new_item = new_item.split()\n",
    "        new_item = [lm.lemmatize(word) for word in new_item if word not in set(stopwords.words('english'))]\n",
    "        corpus.append(' '.join(str(x) for x in new_item))\n",
    "    return corpus"
   ]
  },
  {
   "cell_type": "code",
   "execution_count": 18,
   "id": "right-forge",
   "metadata": {},
   "outputs": [],
   "source": [
    "#!pip install --upgrade nltk\n",
    "import nltk\n",
    "nltk.download('stopwords')\n",
    "nltk.download('wordnet')\n",
    "from nltk.corpus import stopwords\n",
    "stop_words = set(stopwords.words('english'))\n",
    "corpus = text_transformation(df['text'])"
   ]
  },
  {
   "cell_type": "code",
   "execution_count": null,
   "id": "d7a6f730",
   "metadata": {},
   "outputs": [],
   "source": [
    "#!pip install matplotlib\n",
    "%matplotlib inline\n",
    "\n",
    "import matplotlib.pyplot as plt\n",
    "\n",
    "plt.rcParams['figure.figsize'] = (20, 8)\n",
    "word_cloud = \"\"\n",
    "for row in corpus:\n",
    "    for word in row:\n",
    "        word_cloud += \" \".join(word)\n",
    "\n",
    "wordcloud = WordCloud(width = 1000, height = 500,background_color ='white',min_font_size = 10).generate(word_cloud)\n",
    "plt.imshow(wordcloud)"
   ]
  },
  {
   "cell_type": "markdown",
   "id": "5d2525e4",
   "metadata": {},
   "source": [
    "# ![0_cf1wq8eIix-Z2qIf.png](data:image/png;base64,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)\n",
    "\n",
    "\n",
    "# Bag of Words\n",
    "Reference: https://ogre51.medium.com/nlp-explain-bag-of-words-3b9fc4f211e8"
   ]
  },
  {
   "cell_type": "markdown",
   "id": "b8a531a3",
   "metadata": {},
   "source": [
    "It describes the total occurrence of words within a document.\n",
    "\n",
    "Scikit-Learn provides a neat way of performing the bag of words technique using CountVectorizer"
   ]
  },
  {
   "cell_type": "markdown",
   "id": "438260c9",
   "metadata": {},
   "source": [
    "Converting text data into vectors is a fundamental process in natural language processing (NLP) and machine learning. This transformation allows text to be represented in a numerical format, which can be used by machine learning algorithms for various tasks such as classification, clustering, and prediction."
   ]
  },
  {
   "cell_type": "code",
   "execution_count": 20,
   "id": "characteristic-microphone",
   "metadata": {},
   "outputs": [],
   "source": [
    "from sklearn.feature_extraction.text import CountVectorizer"
   ]
  },
  {
   "cell_type": "code",
   "execution_count": null,
   "id": "90adee10",
   "metadata": {},
   "outputs": [],
   "source": [
    "#An n-gram is a contiguous sequence of 𝑛 items from a given text or speech data. In the context of natural language processing (NLP) and text analysis, these items are typically words or characters. The concept of n-grams helps in capturing the context and structure of text data.\n",
    "#Types of N-grams: Unigrams, Bigrams, Trigrams, n-grams (Sequences of 𝑛 consecutive words or tokens, where 𝑛 can be any integer.)\n",
    "cv = CountVectorizer(ngram_range=(1,2))\n",
    "traindata = cv.fit_transform(corpus)\n",
    "X = traindata\n",
    "y = df.label"
   ]
  },
  {
   "cell_type": "markdown",
   "id": "20485f8b",
   "metadata": {},
   "source": [
    "#Machine learning model creation\n",
    "* Model: Random Forest Classifier\n",
    "* Tuning the hyperparameters using GridSearchCV"
   ]
  },
  {
   "cell_type": "markdown",
   "id": "08345a16",
   "metadata": {},
   "source": [
    "#GridSearchCV() will take the following parameters:\n",
    "\n",
    "- Estimator or model: RandomForestClassifier\n",
    "- parameter: dictionary of hyperparameter names and their values\n",
    "- cv: signifies cross-validation folds\n",
    "- return_train_score: returns the training scores of the various models\n",
    "- n_jobs: no. of jobs to run parallelly (“-1” signifies that all CPU cores will be used which reduces the training time drastically)"
   ]
  },
  {
   "cell_type": "code",
   "execution_count": 25,
   "id": "helpful-catch",
   "metadata": {},
   "outputs": [],
   "source": [
    "parameters = {'max_features': ('auto','sqrt'),\n",
    "             'n_estimators': [500, 1000],\n",
    "             'max_depth': [10, None],\n",
    "             'min_samples_split': [5],\n",
    "             'min_samples_leaf': [1],\n",
    "             'bootstrap': [True]}"
   ]
  },
  {
   "cell_type": "markdown",
   "id": "adult-intent",
   "metadata": {},
   "source": [
    "#### Now, we will fit the data into grid search"
   ]
  },
  {
   "cell_type": "code",
   "execution_count": 26,
   "id": "ultimate-rotation",
   "metadata": {},
   "outputs": [
    {
     "data": {
      "text/plain": [
       "{'bootstrap': True,\n",
       " 'max_depth': None,\n",
       " 'max_features': 'auto',\n",
       " 'min_samples_leaf': 1,\n",
       " 'min_samples_split': 5,\n",
       " 'n_estimators': 500}"
      ]
     },
     "execution_count": 26,
     "metadata": {},
     "output_type": "execute_result"
    }
   ],
   "source": [
    "grid_search = GridSearchCV(RandomForestClassifier(),parameters,cv=5,return_train_score=True,n_jobs=-1)\n",
    "grid_search.fit(X,y)\n",
    "grid_search.best_params_"
   ]
  },
  {
   "cell_type": "markdown",
   "id": "pointed-clearing",
   "metadata": {},
   "source": [
    "#### Models and their respective parameters, mean test score and rank. "
   ]
  },
  {
   "cell_type": "code",
   "execution_count": 27,
   "id": "common-relationship",
   "metadata": {},
   "outputs": [
    {
     "name": "stdout",
     "output_type": "stream",
     "text": [
      "Parameters:  {'bootstrap': True, 'max_depth': 10, 'max_features': 'auto', 'min_samples_leaf': 1, 'min_samples_split': 5, 'n_estimators': 500}\n",
      "Mean Test Score:  0.5451666666666666\n",
      "Rank:  6\n",
      "Parameters:  {'bootstrap': True, 'max_depth': 10, 'max_features': 'auto', 'min_samples_leaf': 1, 'min_samples_split': 5, 'n_estimators': 1000}\n",
      "Mean Test Score:  0.5448333333333333\n",
      "Rank:  7\n",
      "Parameters:  {'bootstrap': True, 'max_depth': 10, 'max_features': 'sqrt', 'min_samples_leaf': 1, 'min_samples_split': 5, 'n_estimators': 500}\n",
      "Mean Test Score:  0.5455555555555556\n",
      "Rank:  5\n",
      "Parameters:  {'bootstrap': True, 'max_depth': 10, 'max_features': 'sqrt', 'min_samples_leaf': 1, 'min_samples_split': 5, 'n_estimators': 1000}\n",
      "Mean Test Score:  0.5446666666666666\n",
      "Rank:  8\n",
      "Parameters:  {'bootstrap': True, 'max_depth': None, 'max_features': 'auto', 'min_samples_leaf': 1, 'min_samples_split': 5, 'n_estimators': 500}\n",
      "Mean Test Score:  0.9570555555555555\n",
      "Rank:  1\n",
      "Parameters:  {'bootstrap': True, 'max_depth': None, 'max_features': 'auto', 'min_samples_leaf': 1, 'min_samples_split': 5, 'n_estimators': 1000}\n",
      "Mean Test Score:  0.9561111111111111\n",
      "Rank:  3\n"
     ]
    }
   ],
   "source": [
    "for i in range(6):\n",
    "    print('Parameters: ',grid_search.cv_results_['params'][i])\n",
    "    print('Mean Test Score: ',grid_search.cv_results_['mean_test_score'][i])\n",
    "    print('Rank: ',grid_search.cv_results_['rank_test_score'][i])"
   ]
  },
  {
   "cell_type": "markdown",
   "id": "declared-challenge",
   "metadata": {},
   "source": [
    "#### Choosing the best parameters obtained from GridSearchCV and creating a final random forest classifier model"
   ]
  },
  {
   "cell_type": "code",
   "execution_count": 28,
   "id": "studied-warner",
   "metadata": {},
   "outputs": [],
   "source": [
    "rfc = RandomForestClassifier(max_features=grid_search.best_params_['max_features'],\n",
    "                                      max_depth=grid_search.best_params_['max_depth'],\n",
    "                                      n_estimators=grid_search.best_params_['n_estimators'],\n",
    "                                      min_samples_split=grid_search.best_params_['min_samples_split'],\n",
    "                                      min_samples_leaf=grid_search.best_params_['min_samples_leaf'],\n",
    "                                      bootstrap=grid_search.best_params_['bootstrap'])"
   ]
  },
  {
   "cell_type": "markdown",
   "id": "mexican-paste",
   "metadata": {},
   "source": [
    "Training our model"
   ]
  },
  {
   "cell_type": "code",
   "execution_count": 29,
   "id": "spoken-athens",
   "metadata": {},
   "outputs": [
    {
     "data": {
      "text/plain": [
       "RandomForestClassifier(min_samples_split=5, n_estimators=500)"
      ]
     },
     "execution_count": 29,
     "metadata": {},
     "output_type": "execute_result"
    }
   ],
   "source": [
    "rfc.fit(X,y)"
   ]
  },
  {
   "cell_type": "markdown",
   "id": "relative-monster",
   "metadata": {},
   "source": [
    "## Test Data Transformation"
   ]
  },
  {
   "cell_type": "code",
   "execution_count": 30,
   "id": "crazy-korean",
   "metadata": {},
   "outputs": [],
   "source": [
    "test_df = pd.read_csv('test.txt',delimiter=';',names=['text','label'])"
   ]
  },
  {
   "cell_type": "code",
   "execution_count": 31,
   "id": "sized-alfred",
   "metadata": {},
   "outputs": [],
   "source": [
    "X_test,y_test = test_df.text,test_df.label\n",
    "#encode the labels into two classes , 0 and 1\n",
    "test_df = custom_encoder(y_test)\n",
    "#pre-processing of text\n",
    "test_corpus = text_transformation(X_test)\n",
    "#convert text data into vectors\n",
    "testdata = cv.transform(test_corpus)\n",
    "#predict the target\n",
    "predictions = rfc.predict(testdata)"
   ]
  },
  {
   "cell_type": "markdown",
   "id": "respected-schedule",
   "metadata": {},
   "source": [
    "### Model Evaluation Metrics"
   ]
  },
  {
   "cell_type": "code",
   "execution_count": 32,
   "id": "resident-fitness",
   "metadata": {},
   "outputs": [
    {
     "name": "stdout",
     "output_type": "stream",
     "text": [
      "Accuracy_score:  0.961\n",
      "Precision_score:  0.9616228070175439\n",
      "Recall_score:  0.9532608695652174\n",
      "-------------------------------------------------------------------\n",
      "              precision    recall  f1-score   support\n",
      "\n",
      "           0       0.96      0.97      0.96      1080\n",
      "           1       0.96      0.95      0.96       920\n",
      "\n",
      "    accuracy                           0.96      2000\n",
      "   macro avg       0.96      0.96      0.96      2000\n",
      "weighted avg       0.96      0.96      0.96      2000\n",
      "\n"
     ]
    },
    {
     "data": {
      "image/png": "[encoded data removed]",
      "text/plain": [
       "<Figure size 720x360 with 2 Axes>"
      ]
     },
     "metadata": {},
     "output_type": "display_data"
    }
   ],
   "source": [
    "rcParams['figure.figsize'] = 10,5\n",
    "plot_confusion_matrix(y_test,predictions)\n",
    "acc_score = accuracy_score(y_test,predictions)\n",
    "pre_score = precision_score(y_test,predictions)\n",
    "rec_score = recall_score(y_test,predictions)\n",
    "print('Accuracy_score: ',acc_score)\n",
    "print('Precision_score: ',pre_score)\n",
    "print('Recall_score: ',rec_score)\n",
    "print('-------------------------------------------------------------------')\n",
    "cr = classification_report(y_test,predictions)\n",
    "print(cr)"
   ]
  },
  {
   "cell_type": "code",
   "execution_count": 33,
   "id": "alien-airport",
   "metadata": {},
   "outputs": [],
   "source": [
    "predictions_probability = rfc.predict_proba(testdata)"
   ]
  },
  {
   "cell_type": "code",
   "execution_count": 34,
   "id": "developmental-intake",
   "metadata": {},
   "outputs": [
    {
     "data": {
      "image/png": "[encoded data removed]",
      "text/plain": [
       "<Figure size 720x360 with 1 Axes>"
      ]
     },
     "metadata": {},
     "output_type": "display_data"
    }
   ],
   "source": [
    "fpr,tpr,thresholds = roc_curve(y_test,predictions_probability[:,1])\n",
    "plt.plot(fpr,tpr)\n",
    "plt.plot([0,1])\n",
    "plt.title('ROC Curve')\n",
    "plt.xlabel('False Positive Rate')\n",
    "plt.ylabel('True Positive Rate')\n",
    "plt.show()"
   ]
  },
  {
   "cell_type": "markdown",
   "id": "adult-asbestos",
   "metadata": {},
   "source": [
    "## Predict for Custom Input"
   ]
  },
  {
   "cell_type": "code",
   "execution_count": 35,
   "id": "clear-interview",
   "metadata": {},
   "outputs": [],
   "source": [
    "def expression_check(prediction_input):\n",
    "    if prediction_input == 0:\n",
    "        print(\"Input statement has Negative Sentiment.\")\n",
    "    elif prediction_input == 1:\n",
    "        print(\"Input statement has Positive Sentiment.\")\n",
    "    else:\n",
    "        print(\"Invalid Statement.\")"
   ]
  },
  {
   "cell_type": "code",
   "execution_count": 36,
   "id": "charitable-fabric",
   "metadata": {},
   "outputs": [],
   "source": [
    "def sentiment_predictor(input):\n",
    "    input = text_transformation(input)\n",
    "    transformed_input = cv.transform(input)\n",
    "    prediction = rfc.predict(transformed_input)\n",
    "    expression_check(prediction)"
   ]
  },
  {
   "cell_type": "code",
   "execution_count": 37,
   "id": "hispanic-quarter",
   "metadata": {},
   "outputs": [
    {
     "name": "stdout",
     "output_type": "stream",
     "text": [
      "Input statement has Negative Sentiment.\n",
      "Input statement has Positive Sentiment.\n"
     ]
    }
   ],
   "source": [
    "input1 = [\"Sometimes I just want to punch someone in the face.\"]\n",
    "input2 = [\"I bought a new phone and it's so good.\"]\n",
    "sentiment_predictor(input1)\n",
    "sentiment_predictor(input2)"
   ]
  },
  {
   "cell_type": "markdown",
   "id": "90778ce9",
   "metadata": {},
   "source": [
    "Reference: Analytics Vidhya"
   ]
  }
 ],
 "metadata": {
  "kernelspec": {
   "display_name": "Python 3",
   "language": "python",
   "name": "python3"
  },
  "language_info": {
   "codemirror_mode": {
    "name": "ipython",
    "version": 3
   },
   "file_extension": ".py",
   "mimetype": "text/x-python",
   "name": "python",
   "nbconvert_exporter": "python",
   "pygments_lexer": "ipython3",
   "version": "3.9.5"
  }
 },
 "nbformat": 4,
 "nbformat_minor": 5
}
